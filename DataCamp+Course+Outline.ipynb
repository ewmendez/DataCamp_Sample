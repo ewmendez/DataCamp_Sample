{
 "cells": [
  {
   "attachments": {},
   "cell_type": "markdown",
   "metadata": {},
   "source": [
    "\n",
    "## Chapter 1 - Data Anomaly Detection Examples\n",
    "   * Lesson 1.1 - Data Anomaly and Outliers\n",
    "     * A learning objective: Read datasets into environment and identify types of data anomalies\n",
    "   * Lesson 1.2 - Explore and visualize your data\n",
    "     * A learning objective: Build a basic scatter plot and look at means/medians how one might numerically see an outlier\n",
    "   * Lesson 1.3 - But how do you know for certain, Grubbs Test\n",
    "     * A learning objective: Introduce how an outlier can be measured using the Grubbs test\n",
    "## Chapter 2 - KNN and Local Outlier Factor\n",
    "   * Lesson 2.1 - Clustering with multi-dimension data\n",
    "     * A learning objective: Explore and view data \n",
    "   * Lesson 2.2 - Application of KNN\n",
    "     * A learning objective: Apply KNN Distance matrix and distance score to the dataset\n",
    "   * Lesson 2.3 - Local Outlier Factor\n",
    "     * A learning objective: Using the same dataset, use local outlier factor to see outliers that cannot be seen visually\n",
    "## Chapter 3 - Isolation Forest\n",
    "   * Lesson 3.1 - What makes this different\n",
    "     * A learning objective: Clarify how this outlier detection differs from previous methodologies\n",
    "   * Lesson 3.2 - Fitting and Predicting with Isolation Forest\n",
    "     * A learning objective: Apply fit and predict to train and test data\n",
    "   * Lesson 3.3 - Tweaking parameters to our model\n",
    "     * A learning objective: Change parameters to our model and visualize how these look\n",
    "   * Lesson 3.4 - Isolation Scores\n",
    "     * A learning objective: Score the models with these parameter changes\n",
    "## Chapter 4 - Visualization for Practical Use/Case Study\n",
    "   * Lesson 4.1 - Introduce Fraud Detection Data\n",
    "     * A learning objective: Read the new data into the environment and visualize potential features for review\n",
    "   * Lesson 4.2 - Apply isolation forest model\n",
    "     * A learning objective: Perform analysis of the data using isolation forest\n",
    "   * Lesson 4.3 - Putting it All Together\n",
    "     * A learning objective: Determine if these purchases are fraudulent and visualize your findings"
   ]
  },
  {
   "cell_type": "code",
   "execution_count": null,
   "metadata": {
    "collapsed": true
   },
   "outputs": [],
   "source": []
  }
 ],
 "metadata": {
  "kernelspec": {
   "display_name": "Python [conda root]",
   "language": "python",
   "name": "conda-root-py"
  },
  "language_info": {
   "codemirror_mode": {
    "name": "ipython",
    "version": 3
   },
   "file_extension": ".py",
   "mimetype": "text/x-python",
   "name": "python",
   "nbconvert_exporter": "python",
   "pygments_lexer": "ipython3",
   "version": "3.6.2"
  }
 },
 "nbformat": 4,
 "nbformat_minor": 2
}
